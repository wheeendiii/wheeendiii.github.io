{
 "cells": [
  {
   "cell_type": "code",
   "execution_count": 2,
   "metadata": {},
   "outputs": [],
   "source": [
    "import pandas as pd"
   ]
  },
  {
   "cell_type": "markdown",
   "metadata": {},
   "source": [
    "### Import the dataset"
   ]
  },
  {
   "cell_type": "code",
   "execution_count": 4,
   "metadata": {},
   "outputs": [
    {
     "data": {
      "text/html": [
       "<div>\n",
       "<style scoped>\n",
       "    .dataframe tbody tr th:only-of-type {\n",
       "        vertical-align: middle;\n",
       "    }\n",
       "\n",
       "    .dataframe tbody tr th {\n",
       "        vertical-align: top;\n",
       "    }\n",
       "\n",
       "    .dataframe thead th {\n",
       "        text-align: right;\n",
       "    }\n",
       "</style>\n",
       "<table border=\"1\" class=\"dataframe\">\n",
       "  <thead>\n",
       "    <tr style=\"text-align: right;\">\n",
       "      <th></th>\n",
       "      <th>Agency Name</th>\n",
       "      <th>Location Name</th>\n",
       "      <th>Address</th>\n",
       "      <th>City</th>\n",
       "      <th>Zip code</th>\n",
       "      <th>County</th>\n",
       "      <th>Congress Dist</th>\n",
       "      <th>Congressional Full Name</th>\n",
       "      <th>Rep Dist</th>\n",
       "      <th>Rep Full Name</th>\n",
       "      <th>...</th>\n",
       "      <th>Bldg Status</th>\n",
       "      <th>Year Acquired</th>\n",
       "      <th>Year Constructed</th>\n",
       "      <th>Square Footage</th>\n",
       "      <th>Total Floors</th>\n",
       "      <th>Floors Above Grade</th>\n",
       "      <th>Floors Below Grade</th>\n",
       "      <th>Usage Description</th>\n",
       "      <th>Usage Description 2</th>\n",
       "      <th>Usage Description 3</th>\n",
       "    </tr>\n",
       "  </thead>\n",
       "  <tbody>\n",
       "    <tr>\n",
       "      <th>0</th>\n",
       "      <td>Department of Natural Resources</td>\n",
       "      <td>Anderson Lake Conservation Area - Fulton County</td>\n",
       "      <td>Anderson Lake C.a.</td>\n",
       "      <td>Astoria</td>\n",
       "      <td>61501</td>\n",
       "      <td>Fulton</td>\n",
       "      <td>17</td>\n",
       "      <td>Cheri Bustos</td>\n",
       "      <td>93</td>\n",
       "      <td>Hammond Norine K.</td>\n",
       "      <td>...</td>\n",
       "      <td>In Use</td>\n",
       "      <td>1975.0</td>\n",
       "      <td>1975.0</td>\n",
       "      <td>144.0</td>\n",
       "      <td>1</td>\n",
       "      <td>1</td>\n",
       "      <td>0</td>\n",
       "      <td>Unusual</td>\n",
       "      <td>Unusual</td>\n",
       "      <td>Not provided</td>\n",
       "    </tr>\n",
       "    <tr>\n",
       "      <th>1</th>\n",
       "      <td>Department of Natural Resources</td>\n",
       "      <td>Anderson Lake Conservation Area - Fulton County</td>\n",
       "      <td>Anderson Lake C.a.</td>\n",
       "      <td>Astoria</td>\n",
       "      <td>61501</td>\n",
       "      <td>Fulton</td>\n",
       "      <td>17</td>\n",
       "      <td>Cheri Bustos</td>\n",
       "      <td>93</td>\n",
       "      <td>Hammond Norine K.</td>\n",
       "      <td>...</td>\n",
       "      <td>In Use</td>\n",
       "      <td>2004.0</td>\n",
       "      <td>2004.0</td>\n",
       "      <td>144.0</td>\n",
       "      <td>1</td>\n",
       "      <td>1</td>\n",
       "      <td>0</td>\n",
       "      <td>Unusual</td>\n",
       "      <td>Unusual</td>\n",
       "      <td>Not provided</td>\n",
       "    </tr>\n",
       "    <tr>\n",
       "      <th>2</th>\n",
       "      <td>Department of Natural Resources</td>\n",
       "      <td>Anderson Lake Conservation Area - Fulton County</td>\n",
       "      <td>Anderson Lake C.a.</td>\n",
       "      <td>Astoria</td>\n",
       "      <td>61501</td>\n",
       "      <td>Fulton</td>\n",
       "      <td>17</td>\n",
       "      <td>Cheri Bustos</td>\n",
       "      <td>93</td>\n",
       "      <td>Hammond Norine K.</td>\n",
       "      <td>...</td>\n",
       "      <td>In Use</td>\n",
       "      <td>2004.0</td>\n",
       "      <td>2004.0</td>\n",
       "      <td>144.0</td>\n",
       "      <td>1</td>\n",
       "      <td>1</td>\n",
       "      <td>0</td>\n",
       "      <td>Unusual</td>\n",
       "      <td>Unusual</td>\n",
       "      <td>Not provided</td>\n",
       "    </tr>\n",
       "    <tr>\n",
       "      <th>3</th>\n",
       "      <td>Department of Natural Resources</td>\n",
       "      <td>Anderson Lake Conservation Area - Fulton County</td>\n",
       "      <td>Anderson Lake C.a.</td>\n",
       "      <td>Astoria</td>\n",
       "      <td>61501</td>\n",
       "      <td>Fulton</td>\n",
       "      <td>17</td>\n",
       "      <td>Cheri Bustos</td>\n",
       "      <td>93</td>\n",
       "      <td>Hammond Norine K.</td>\n",
       "      <td>...</td>\n",
       "      <td>In Use</td>\n",
       "      <td>2004.0</td>\n",
       "      <td>2004.0</td>\n",
       "      <td>144.0</td>\n",
       "      <td>1</td>\n",
       "      <td>1</td>\n",
       "      <td>0</td>\n",
       "      <td>Unusual</td>\n",
       "      <td>Unusual</td>\n",
       "      <td>Not provided</td>\n",
       "    </tr>\n",
       "    <tr>\n",
       "      <th>4</th>\n",
       "      <td>Department of Natural Resources</td>\n",
       "      <td>Anderson Lake Conservation Area - Fulton County</td>\n",
       "      <td>Anderson Lake C.a.</td>\n",
       "      <td>Astoria</td>\n",
       "      <td>61501</td>\n",
       "      <td>Fulton</td>\n",
       "      <td>17</td>\n",
       "      <td>Cheri Bustos</td>\n",
       "      <td>93</td>\n",
       "      <td>Hammond Norine K.</td>\n",
       "      <td>...</td>\n",
       "      <td>In Use</td>\n",
       "      <td>2004.0</td>\n",
       "      <td>2004.0</td>\n",
       "      <td>144.0</td>\n",
       "      <td>1</td>\n",
       "      <td>1</td>\n",
       "      <td>0</td>\n",
       "      <td>Unusual</td>\n",
       "      <td>Unusual</td>\n",
       "      <td>Not provided</td>\n",
       "    </tr>\n",
       "    <tr>\n",
       "      <th>5</th>\n",
       "      <td>Department of Natural Resources</td>\n",
       "      <td>Anderson Lake Conservation Area - Fulton County</td>\n",
       "      <td>Anderson Lake C.a.</td>\n",
       "      <td>Astoria</td>\n",
       "      <td>61501</td>\n",
       "      <td>Fulton</td>\n",
       "      <td>17</td>\n",
       "      <td>Cheri Bustos</td>\n",
       "      <td>93</td>\n",
       "      <td>Hammond Norine K.</td>\n",
       "      <td>...</td>\n",
       "      <td>In Use</td>\n",
       "      <td>2004.0</td>\n",
       "      <td>2004.0</td>\n",
       "      <td>144.0</td>\n",
       "      <td>1</td>\n",
       "      <td>1</td>\n",
       "      <td>0</td>\n",
       "      <td>Unusual</td>\n",
       "      <td>Unusual</td>\n",
       "      <td>Not provided</td>\n",
       "    </tr>\n",
       "    <tr>\n",
       "      <th>6</th>\n",
       "      <td>Department of Natural Resources</td>\n",
       "      <td>Dixon Springs State Park - Pope County</td>\n",
       "      <td>Rr #2</td>\n",
       "      <td>Golconda</td>\n",
       "      <td>62938</td>\n",
       "      <td>Pope</td>\n",
       "      <td>15</td>\n",
       "      <td>John Shimkus</td>\n",
       "      <td>118</td>\n",
       "      <td>Phelps Brandon W.</td>\n",
       "      <td>...</td>\n",
       "      <td>In Use</td>\n",
       "      <td>2000.0</td>\n",
       "      <td>2000.0</td>\n",
       "      <td>120.0</td>\n",
       "      <td>1</td>\n",
       "      <td>1</td>\n",
       "      <td>0</td>\n",
       "      <td>Unusual</td>\n",
       "      <td>Unusual</td>\n",
       "      <td>Not provided</td>\n",
       "    </tr>\n",
       "    <tr>\n",
       "      <th>7</th>\n",
       "      <td>Department of Natural Resources</td>\n",
       "      <td>Dixon Springs State Park - Pope County</td>\n",
       "      <td>Rr #2</td>\n",
       "      <td>Golconda</td>\n",
       "      <td>62938</td>\n",
       "      <td>Pope</td>\n",
       "      <td>15</td>\n",
       "      <td>John Shimkus</td>\n",
       "      <td>118</td>\n",
       "      <td>Phelps Brandon W.</td>\n",
       "      <td>...</td>\n",
       "      <td>In Use</td>\n",
       "      <td>2000.0</td>\n",
       "      <td>2000.0</td>\n",
       "      <td>120.0</td>\n",
       "      <td>1</td>\n",
       "      <td>1</td>\n",
       "      <td>0</td>\n",
       "      <td>Unusual</td>\n",
       "      <td>Unusual</td>\n",
       "      <td>Not provided</td>\n",
       "    </tr>\n",
       "    <tr>\n",
       "      <th>8</th>\n",
       "      <td>Department of Natural Resources</td>\n",
       "      <td>Matthiessen State Park - LaSalle County</td>\n",
       "      <td>R. R. 178, Box 509</td>\n",
       "      <td>Utica</td>\n",
       "      <td>61373</td>\n",
       "      <td>LaSalle</td>\n",
       "      <td>16</td>\n",
       "      <td>Adam Kinzinger</td>\n",
       "      <td>76</td>\n",
       "      <td>Long Jerry Lee</td>\n",
       "      <td>...</td>\n",
       "      <td>In Use</td>\n",
       "      <td>2000.0</td>\n",
       "      <td>2000.0</td>\n",
       "      <td>144.0</td>\n",
       "      <td>1</td>\n",
       "      <td>1</td>\n",
       "      <td>0</td>\n",
       "      <td>Unusual</td>\n",
       "      <td>Unusual</td>\n",
       "      <td>Not provided</td>\n",
       "    </tr>\n",
       "    <tr>\n",
       "      <th>9</th>\n",
       "      <td>Department of Natural Resources</td>\n",
       "      <td>Matthiessen State Park - LaSalle County</td>\n",
       "      <td>R. R. 178, Box 509</td>\n",
       "      <td>Utica</td>\n",
       "      <td>61373</td>\n",
       "      <td>LaSalle</td>\n",
       "      <td>16</td>\n",
       "      <td>Adam Kinzinger</td>\n",
       "      <td>76</td>\n",
       "      <td>Long Jerry Lee</td>\n",
       "      <td>...</td>\n",
       "      <td>In Use</td>\n",
       "      <td>2000.0</td>\n",
       "      <td>2000.0</td>\n",
       "      <td>144.0</td>\n",
       "      <td>1</td>\n",
       "      <td>1</td>\n",
       "      <td>0</td>\n",
       "      <td>Unusual</td>\n",
       "      <td>Unusual</td>\n",
       "      <td>Not provided</td>\n",
       "    </tr>\n",
       "  </tbody>\n",
       "</table>\n",
       "<p>10 rows × 22 columns</p>\n",
       "</div>"
      ],
      "text/plain": [
       "                       Agency Name  \\\n",
       "0  Department of Natural Resources   \n",
       "1  Department of Natural Resources   \n",
       "2  Department of Natural Resources   \n",
       "3  Department of Natural Resources   \n",
       "4  Department of Natural Resources   \n",
       "5  Department of Natural Resources   \n",
       "6  Department of Natural Resources   \n",
       "7  Department of Natural Resources   \n",
       "8  Department of Natural Resources   \n",
       "9  Department of Natural Resources   \n",
       "\n",
       "                                     Location Name             Address  \\\n",
       "0  Anderson Lake Conservation Area - Fulton County  Anderson Lake C.a.   \n",
       "1  Anderson Lake Conservation Area - Fulton County  Anderson Lake C.a.   \n",
       "2  Anderson Lake Conservation Area - Fulton County  Anderson Lake C.a.   \n",
       "3  Anderson Lake Conservation Area - Fulton County  Anderson Lake C.a.   \n",
       "4  Anderson Lake Conservation Area - Fulton County  Anderson Lake C.a.   \n",
       "5  Anderson Lake Conservation Area - Fulton County  Anderson Lake C.a.   \n",
       "6           Dixon Springs State Park - Pope County               Rr #2   \n",
       "7           Dixon Springs State Park - Pope County               Rr #2   \n",
       "8          Matthiessen State Park - LaSalle County  R. R. 178, Box 509   \n",
       "9          Matthiessen State Park - LaSalle County  R. R. 178, Box 509   \n",
       "\n",
       "       City  Zip code   County  Congress Dist Congressional Full Name  \\\n",
       "0   Astoria     61501   Fulton             17            Cheri Bustos   \n",
       "1   Astoria     61501   Fulton             17            Cheri Bustos   \n",
       "2   Astoria     61501   Fulton             17            Cheri Bustos   \n",
       "3   Astoria     61501   Fulton             17            Cheri Bustos   \n",
       "4   Astoria     61501   Fulton             17            Cheri Bustos   \n",
       "5   Astoria     61501   Fulton             17            Cheri Bustos   \n",
       "6  Golconda     62938     Pope             15            John Shimkus   \n",
       "7  Golconda     62938     Pope             15            John Shimkus   \n",
       "8     Utica     61373  LaSalle             16          Adam Kinzinger   \n",
       "9     Utica     61373  LaSalle             16          Adam Kinzinger   \n",
       "\n",
       "   Rep Dist      Rep Full Name  ...  Bldg Status Year Acquired  \\\n",
       "0        93  Hammond Norine K.  ...       In Use        1975.0   \n",
       "1        93  Hammond Norine K.  ...       In Use        2004.0   \n",
       "2        93  Hammond Norine K.  ...       In Use        2004.0   \n",
       "3        93  Hammond Norine K.  ...       In Use        2004.0   \n",
       "4        93  Hammond Norine K.  ...       In Use        2004.0   \n",
       "5        93  Hammond Norine K.  ...       In Use        2004.0   \n",
       "6       118  Phelps Brandon W.  ...       In Use        2000.0   \n",
       "7       118  Phelps Brandon W.  ...       In Use        2000.0   \n",
       "8        76     Long Jerry Lee  ...       In Use        2000.0   \n",
       "9        76     Long Jerry Lee  ...       In Use        2000.0   \n",
       "\n",
       "  Year Constructed  Square Footage  Total Floors  Floors Above Grade  \\\n",
       "0           1975.0           144.0             1                   1   \n",
       "1           2004.0           144.0             1                   1   \n",
       "2           2004.0           144.0             1                   1   \n",
       "3           2004.0           144.0             1                   1   \n",
       "4           2004.0           144.0             1                   1   \n",
       "5           2004.0           144.0             1                   1   \n",
       "6           2000.0           120.0             1                   1   \n",
       "7           2000.0           120.0             1                   1   \n",
       "8           2000.0           144.0             1                   1   \n",
       "9           2000.0           144.0             1                   1   \n",
       "\n",
       "   Floors Below Grade  Usage Description  Usage Description 2  \\\n",
       "0                   0            Unusual              Unusual   \n",
       "1                   0            Unusual              Unusual   \n",
       "2                   0            Unusual              Unusual   \n",
       "3                   0            Unusual              Unusual   \n",
       "4                   0            Unusual              Unusual   \n",
       "5                   0            Unusual              Unusual   \n",
       "6                   0            Unusual              Unusual   \n",
       "7                   0            Unusual              Unusual   \n",
       "8                   0            Unusual              Unusual   \n",
       "9                   0            Unusual              Unusual   \n",
       "\n",
       "  Usage Description 3  \n",
       "0        Not provided  \n",
       "1        Not provided  \n",
       "2        Not provided  \n",
       "3        Not provided  \n",
       "4        Not provided  \n",
       "5        Not provided  \n",
       "6        Not provided  \n",
       "7        Not provided  \n",
       "8        Not provided  \n",
       "9        Not provided  \n",
       "\n",
       "[10 rows x 22 columns]"
      ]
     },
     "execution_count": 4,
     "metadata": {},
     "output_type": "execute_result"
    }
   ],
   "source": [
    "# Import the dataset and fill zero values with NaN tag\n",
    "buildings = pd.read_csv('building_inventory.csv',\n",
    "           na_values = {'Square Footage': 0,\n",
    "                       'Year Acquired': 0,\n",
    "                       'Year Constructed': 0})\n",
    "buildings.head(10)"
   ]
  },
  {
   "cell_type": "markdown",
   "metadata": {},
   "source": [
    "#### Relationship between the year acquired and the year constructed"
   ]
  },
  {
   "cell_type": "code",
   "execution_count": 7,
   "metadata": {},
   "outputs": [
    {
     "data": {
      "text/plain": [
       "<matplotlib.axes._subplots.AxesSubplot at 0x7f834ee633a0>"
      ]
     },
     "execution_count": 7,
     "metadata": {},
     "output_type": "execute_result"
    },
    {
     "data": {
      "image/png": "[encoded data removed]",
      "text/plain": [
       "<Figure size 720x432 with 1 Axes>"
      ]
     },
     "metadata": {
      "needs_background": "light"
     },
     "output_type": "display_data"
    }
   ],
   "source": [
    "buildings.plot(x=\"Year Acquired\", y=\"Year Constructed\",figsize=(10,6),kind='scatter')"
   ]
  },
  {
   "cell_type": "markdown",
   "metadata": {},
   "source": [
    "On default, the graph generated a line plot and it displayed messy patterns. The graph barely showed any relationship between these two variables so I plotted a scatter plot instead. There is a moderate linear relationship between 'Year Constructed' and 'Year Acquired', indicating buildings which finished constructing within a year since they started. However, a noticable amount of data points do not align with the linear pattern as well as some outliers. Another drawback in this graph is that we cannot see detailed information of data points."
   ]
  },
  {
   "cell_type": "markdown",
   "metadata": {},
   "source": [
    "#### Total square footage as a function of congressional district"
   ]
  },
  {
   "cell_type": "code",
   "execution_count": 19,
   "metadata": {},
   "outputs": [
    {
     "data": {
      "text/plain": [
       "<matplotlib.axes._subplots.AxesSubplot at 0x7f83508c4610>"
      ]
     },
     "execution_count": 19,
     "metadata": {},
     "output_type": "execute_result"
    },
    {
     "data": {
      "image/png": "[encoded data removed]",
      "text/plain": [
       "<Figure size 720x432 with 1 Axes>"
      ]
     },
     "metadata": {
      "needs_background": "light"
     },
     "output_type": "display_data"
    }
   ],
   "source": [
    "aggregated = buildings.groupby(\"Congress Dist\")[\"Square Footage\"].sum()\n",
    "aggregated.plot(figsize=(10,6),kind = 'bar')"
   ]
  },
  {
   "cell_type": "markdown",
   "metadata": {},
   "source": [
    "Since 'Congress Dist' is categorical data, I use groupby funtion to aggregate \"Square Footage\" under congressional district categoties. I tried to add y axis label to \"Square Footage\" but it seems like adding \"y = 'Square Footage'\" to plot function does not affect the outcome. According to the graph, congressional district 13 has leading total square footage out of all districts.\n"
   ]
  },
  {
   "cell_type": "markdown",
   "metadata": {},
   "source": [
    "#### Average square footage per floor as a function of congressional district"
   ]
  },
  {
   "cell_type": "code",
   "execution_count": 17,
   "metadata": {},
   "outputs": [
    {
     "data": {
      "text/plain": [
       "<matplotlib.axes._subplots.AxesSubplot at 0x7f8350563160>"
      ]
     },
     "execution_count": 17,
     "metadata": {},
     "output_type": "execute_result"
    },
    {
     "data": {
      "image/png": "[encoded data removed]",
      "text/plain": [
       "<Figure size 720x432 with 1 Axes>"
      ]
     },
     "metadata": {
      "needs_background": "light"
     },
     "output_type": "display_data"
    }
   ],
   "source": [
    "buildings['Average Square Footage'] = buildings['Square Footage']/buildings['Total Floors']\n",
    "av_dist = buildings.groupby(\"Congress Dist\")[\"Average Square Footage\"].sum()\n",
    "av_dist.plot(figsize=(10,6), kind = 'bar')"
   ]
  },
  {
   "cell_type": "markdown",
   "metadata": {},
   "source": [
    "I first calculated average square footage by dividing total square footage by the number of floors and store the results as a new column named \"Average Square Footage\". Then same as the last question, I grouped the average square footage by 'Congress Dist' and ploted my aggregated data in graph. We can see the resutls are drastically different. Instead of district 13, district 15,16 and 18 have leading average square footage compared to other districts. "
   ]
  }
 ],
 "metadata": {
  "kernelspec": {
   "display_name": "Python 3",
   "language": "python",
   "name": "python3"
  },
  "language_info": {
   "codemirror_mode": {
    "name": "ipython",
    "version": 3
   },
   "file_extension": ".py",
   "mimetype": "text/x-python",
   "name": "python",
   "nbconvert_exporter": "python",
   "pygments_lexer": "ipython3",
   "version": "3.8.3"
  }
 },
 "nbformat": 4,
 "nbformat_minor": 5
}
